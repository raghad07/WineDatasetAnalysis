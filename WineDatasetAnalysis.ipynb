{
  "cells": [
    {
      "attachments": {},
      "cell_type": "markdown",
      "metadata": {
        "id": "em3zChTxdTtg"
      },
      "source": [
        "##1-Read CSV file into a DataFrame"
      ]
    },
    {
      "cell_type": "code",
      "execution_count": null,
      "metadata": {
        "colab": {
          "base_uri": "https://localhost:8080/"
        },
        "id": "g7yRLppNdUuw",
        "outputId": "e4b4cae2-ee9c-4f8d-91f0-59a5c8109764"
      },
      "outputs": [
        {
          "name": "stdout",
          "output_type": "stream",
          "text": [
            "      Unnamed: 0    country  ...             variety               winery\n",
            "0              0      Italy  ...         White Blend              Nicosia\n",
            "1              1   Portugal  ...      Portuguese Red  Quinta dos Avidagos\n",
            "2              2         US  ...          Pinot Gris            Rainstorm\n",
            "3              3         US  ...            Riesling           St. Julian\n",
            "4              4         US  ...          Pinot Noir         Sweet Cheeks\n",
            "...          ...        ...  ...                 ...                  ...\n",
            "6154        6154  Australia  ...  Cabernet Sauvignon             Taltarni\n",
            "6155        6155      Chile  ...           Red Blend              Antiyal\n",
            "6156        6156     France  ...                Rosé    Mas des Bressades\n",
            "6157        6157         US  ...     Sparkling Blend         Frank Family\n",
            "6158        6158         US  ...           Zinfandel                 Hobo\n",
            "\n",
            "[6159 rows x 14 columns]\n"
          ]
        }
      ],
      "source": [
        "# importing matplotlib as plt\n",
        "import matplotlib.pyplot as plt\n",
        "\n",
        "# importing numpy as np\n",
        "import numpy as np\n",
        "\n",
        "# importing pandas as pd\n",
        "import pandas as pd\n",
        "\n",
        "data_set=pd.read_csv('/content/winemag-data-assignment-2.csv')\n",
        "print(data_set)"
      ]
    },
    {
      "attachments": {},
      "cell_type": "markdown",
      "metadata": {
        "id": "pnm85MtRhNv4"
      },
      "source": [
        "##2-Print the Describe  and info of the DataFrame"
      ]
    },
    {
      "cell_type": "code",
      "execution_count": null,
      "metadata": {
        "colab": {
          "base_uri": "https://localhost:8080/",
          "height": 297
        },
        "id": "5N_A5VljhO81",
        "outputId": "2ce1a133-4a23-4e48-91f6-3b6339bc160d"
      },
      "outputs": [
        {
          "data": {
            "text/html": [
              "<div>\n",
              "<style scoped>\n",
              "    .dataframe tbody tr th:only-of-type {\n",
              "        vertical-align: middle;\n",
              "    }\n",
              "\n",
              "    .dataframe tbody tr th {\n",
              "        vertical-align: top;\n",
              "    }\n",
              "\n",
              "    .dataframe thead th {\n",
              "        text-align: right;\n",
              "    }\n",
              "</style>\n",
              "<table border=\"1\" class=\"dataframe\">\n",
              "  <thead>\n",
              "    <tr style=\"text-align: right;\">\n",
              "      <th></th>\n",
              "      <th>Unnamed: 0</th>\n",
              "      <th>points</th>\n",
              "      <th>price</th>\n",
              "    </tr>\n",
              "  </thead>\n",
              "  <tbody>\n",
              "    <tr>\n",
              "      <th>count</th>\n",
              "      <td>6159.000000</td>\n",
              "      <td>6132.000000</td>\n",
              "      <td>5737.000000</td>\n",
              "    </tr>\n",
              "    <tr>\n",
              "      <th>mean</th>\n",
              "      <td>3079.000000</td>\n",
              "      <td>88.201729</td>\n",
              "      <td>34.633781</td>\n",
              "    </tr>\n",
              "    <tr>\n",
              "      <th>std</th>\n",
              "      <td>1778.094486</td>\n",
              "      <td>2.902916</td>\n",
              "      <td>49.271650</td>\n",
              "    </tr>\n",
              "    <tr>\n",
              "      <th>min</th>\n",
              "      <td>0.000000</td>\n",
              "      <td>80.000000</td>\n",
              "      <td>4.000000</td>\n",
              "    </tr>\n",
              "    <tr>\n",
              "      <th>25%</th>\n",
              "      <td>1539.500000</td>\n",
              "      <td>86.000000</td>\n",
              "      <td>17.000000</td>\n",
              "    </tr>\n",
              "    <tr>\n",
              "      <th>50%</th>\n",
              "      <td>3079.000000</td>\n",
              "      <td>88.000000</td>\n",
              "      <td>25.000000</td>\n",
              "    </tr>\n",
              "    <tr>\n",
              "      <th>75%</th>\n",
              "      <td>4618.500000</td>\n",
              "      <td>90.000000</td>\n",
              "      <td>40.000000</td>\n",
              "    </tr>\n",
              "    <tr>\n",
              "      <th>max</th>\n",
              "      <td>6158.000000</td>\n",
              "      <td>100.000000</td>\n",
              "      <td>1900.000000</td>\n",
              "    </tr>\n",
              "  </tbody>\n",
              "</table>\n",
              "</div>"
            ],
            "text/plain": [
              "        Unnamed: 0       points        price\n",
              "count  6159.000000  6132.000000  5737.000000\n",
              "mean   3079.000000    88.201729    34.633781\n",
              "std    1778.094486     2.902916    49.271650\n",
              "min       0.000000    80.000000     4.000000\n",
              "25%    1539.500000    86.000000    17.000000\n",
              "50%    3079.000000    88.000000    25.000000\n",
              "75%    4618.500000    90.000000    40.000000\n",
              "max    6158.000000   100.000000  1900.000000"
            ]
          },
          "execution_count": 3,
          "metadata": {},
          "output_type": "execute_result"
        }
      ],
      "source": [
        " #describe a DataFream\n",
        " data_set.describe()\n"
      ]
    },
    {
      "cell_type": "code",
      "execution_count": null,
      "metadata": {
        "colab": {
          "base_uri": "https://localhost:8080/"
        },
        "id": "q92nbEw5wUkI",
        "outputId": "2a0d178a-3346-47d7-f455-41731e570191"
      },
      "outputs": [
        {
          "name": "stdout",
          "output_type": "stream",
          "text": [
            "<class 'pandas.core.frame.DataFrame'>\n",
            "RangeIndex: 6159 entries, 0 to 6158\n",
            "Data columns (total 14 columns):\n",
            " #   Column                 Non-Null Count  Dtype  \n",
            "---  ------                 --------------  -----  \n",
            " 0   Unnamed: 0             6159 non-null   int64  \n",
            " 1   country                6156 non-null   object \n",
            " 2   description            6159 non-null   object \n",
            " 3   designation            4324 non-null   object \n",
            " 4   points                 6132 non-null   float64\n",
            " 5   price                  5737 non-null   float64\n",
            " 6   province               6156 non-null   object \n",
            " 7   region_1               5176 non-null   object \n",
            " 8   region_2               2423 non-null   object \n",
            " 9   taster_name            4910 non-null   object \n",
            " 10  taster_twitter_handle  4707 non-null   object \n",
            " 11  title                  6159 non-null   object \n",
            " 12  variety                6159 non-null   object \n",
            " 13  winery                 6159 non-null   object \n",
            "dtypes: float64(2), int64(1), object(11)\n",
            "memory usage: 673.8+ KB\n"
          ]
        }
      ],
      "source": [
        "data_set.info()"
      ]
    },
    {
      "attachments": {},
      "cell_type": "markdown",
      "metadata": {
        "id": "WPvEXrwyj7IZ"
      },
      "source": [
        "##3-Drop the columns (Description,Region_2,Taster_name,Taster_twitter_handle,Title,Province)\n"
      ]
    },
    {
      "cell_type": "code",
      "execution_count": null,
      "metadata": {
        "id": "OtZMpU_iy4Y6"
      },
      "outputs": [],
      "source": [
        "#Drop this columns\n",
        "data_set.drop(['description','region_2','taster_name','taster_twitter_handle','title','province'],axis=1,inplace=True)"
      ]
    },
    {
      "attachments": {},
      "cell_type": "markdown",
      "metadata": {
        "id": "vDuizN0jDm8O"
      },
      "source": [
        "##4-Convert text values to numerical values in (Country,Region_1,Variety,Winery)."
      ]
    },
    {
      "cell_type": "code",
      "execution_count": null,
      "metadata": {
        "id": "JevpWokN6esI"
      },
      "outputs": [],
      "source": [
        "def convert_text_to_num(x):\n",
        "    set_x=set(x)\n",
        "    index_w={}\n",
        "    w_index={}\n",
        "    for i,w in enumerate(set_x):\n",
        "        index_w[i]=w \n",
        "        w_index[w]=i\n",
        "    x=x.replace(w_index)\n",
        "    print(index_w)\n",
        "    return x,w_index,index_w"
      ]
    },
    {
      "attachments": {},
      "cell_type": "markdown",
      "metadata": {
        "id": "uLMuYMoBz9fp"
      },
      "source": [
        "##5-Fill in missing values in (price) using the mean value of each column and in(point) using the median value of each column."
      ]
    },
    {
      "cell_type": "code",
      "execution_count": null,
      "metadata": {
        "colab": {
          "base_uri": "https://localhost:8080/"
        },
        "id": "NyZA0M4ngnkk",
        "outputId": "dc97c889-1436-403c-9e48-e10037ebd364"
      },
      "outputs": [
        {
          "name": "stdout",
          "output_type": "stream",
          "text": [
            "price : 0       34.633781\n",
            "1       15.000000\n",
            "2       14.000000\n",
            "3       13.000000\n",
            "4       65.000000\n",
            "          ...    \n",
            "6154    32.000000\n",
            "6155    30.000000\n",
            "6156    13.000000\n",
            "6157    35.000000\n",
            "6158    25.000000\n",
            "Name: price, Length: 6159, dtype: float64\n",
            "points : 0       87.0\n",
            "1       87.0\n",
            "2       87.0\n",
            "3       87.0\n",
            "4       87.0\n",
            "        ... \n",
            "6154    89.0\n",
            "6155    89.0\n",
            "6156    89.0\n",
            "6157    89.0\n",
            "6158    89.0\n",
            "Name: points, Length: 6159, dtype: float64\n"
          ]
        }
      ],
      "source": [
        "# using isnull() function  \n",
        "data_set['price'].isnull()\n",
        "\n",
        "# filling a null values using fillna() \n",
        "filling_mean=data_set['price'].fillna(data_set['price'].mean())\n",
        "print('price :' ,filling_mean)\n",
        "\n",
        "# using isnull() function  \n",
        "data_set['points'].isnull()\n",
        "fill_med=data_set['points'].fillna(data_set['points'].median())\n",
        "print('points :' ,fill_med)\n",
        "\n",
        "\n"
      ]
    },
    {
      "attachments": {},
      "cell_type": "markdown",
      "metadata": {
        "id": "dFLimp_Lib0S"
      },
      "source": [
        "##6-Split the data into inputs/features (x) and output/target ( y )."
      ]
    },
    {
      "cell_type": "code",
      "execution_count": null,
      "metadata": {
        "colab": {
          "base_uri": "https://localhost:8080/"
        },
        "id": "PcTenJ8PiczO",
        "outputId": "ab56888c-ae06-4e41-fbc4-b1ef4a6524b5"
      },
      "outputs": [
        {
          "name": "stdout",
          "output_type": "stream",
          "text": [
            "input (features) :       Unnamed: 0  country  ... variety  winery\n",
            "0              0        4  ...     267    2887\n",
            "1              1       26  ...     203    1962\n",
            "2              2       25  ...     199    1666\n",
            "3              3       25  ...      15    3915\n",
            "4              4       25  ...      12    1514\n",
            "...          ...      ...  ...     ...     ...\n",
            "6154        6154       23  ...     109    3584\n",
            "6155        6155       22  ...     141    2228\n",
            "6156        6156       13  ...     193    1264\n",
            "6157        6157       25  ...     249    3133\n",
            "6158        6158       25  ...      68    1551\n",
            "\n",
            "[6159 rows x 8 columns]\n",
            "output  Empty DataFrame\n",
            "Columns: []\n",
            "Index: [0, 1, 2, 3, 4, 5, 6, 7, 8, 9, 10, 11, 12, 13, 14, 15, 16, 17, 18, 19, 20, 21, 22, 23, 24, 25, 26, 27, 28, 29, 30, 31, 32, 33, 34, 35, 36, 37, 38, 39, 40, 41, 42, 43, 44, 45, 46, 47, 48, 49, 50, 51, 52, 53, 54, 55, 56, 57, 58, 59, 60, 61, 62, 63, 64, 65, 66, 67, 68, 69, 70, 71, 72, 73, 74, 75, 76, 77, 78, 79, 80, 81, 82, 83, 84, 85, 86, 87, 88, 89, 90, 91, 92, 93, 94, 95, 96, 97, 98, 99, ...]\n",
            "\n",
            "[6159 rows x 0 columns]\n"
          ]
        }
      ],
      "source": [
        "#Split the data  inputs(features (x))\n",
        "x=data_set.iloc[:,0:13]\n",
        "print('input (features) :', x)\n",
        "#split the data output(target(y))\n",
        "y=data_set.iloc[:,13:]\n",
        "print('output ' ,y)\n"
      ]
    },
    {
      "attachments": {},
      "cell_type": "markdown",
      "metadata": {
        "id": "vYFPf1TlyVdZ"
      },
      "source": [
        "##7-Print the Describe  and info of the dataset by the descriptive statics tools (such as mean, mode…)"
      ]
    },
    {
      "cell_type": "code",
      "execution_count": null,
      "metadata": {
        "colab": {
          "base_uri": "https://localhost:8080/"
        },
        "id": "7_4fgKEfyaJb",
        "outputId": "35febdab-b347-4b99-c64d-894cc0dc5b0a"
      },
      "outputs": [
        {
          "name": "stdout",
          "output_type": "stream",
          "text": [
            "Unnamed: 0    3079.000000\n",
            "country         18.140932\n",
            "points          88.201729\n",
            "price           34.633781\n",
            "region_1       253.704985\n",
            "variety        131.590356\n",
            "winery        2002.040591\n",
            "dtype: float64\n",
            "      Unnamed: 0  country designation  points  price  region_1  variety  winery\n",
            "0              0     25.0     Reserve    88.0   20.0       0.0     12.0  3550.0\n",
            "1              1      NaN         NaN     NaN    NaN       NaN      NaN     NaN\n",
            "2              2      NaN         NaN     NaN    NaN       NaN      NaN     NaN\n",
            "3              3      NaN         NaN     NaN    NaN       NaN      NaN     NaN\n",
            "4              4      NaN         NaN     NaN    NaN       NaN      NaN     NaN\n",
            "...          ...      ...         ...     ...    ...       ...      ...     ...\n",
            "6154        6154      NaN         NaN     NaN    NaN       NaN      NaN     NaN\n",
            "6155        6155      NaN         NaN     NaN    NaN       NaN      NaN     NaN\n",
            "6156        6156      NaN         NaN     NaN    NaN       NaN      NaN     NaN\n",
            "6157        6157      NaN         NaN     NaN    NaN       NaN      NaN     NaN\n",
            "6158        6158      NaN         NaN     NaN    NaN       NaN      NaN     NaN\n",
            "\n",
            "[6159 rows x 8 columns]\n",
            "Unnamed: 0    18963561.0\n",
            "country         111730.0\n",
            "points          540853.0\n",
            "price           198694.0\n",
            "region_1       1562569.0\n",
            "variety         810465.0\n",
            "winery        12330568.0\n",
            "dtype: float64\n",
            "Unnamed: 0    6158.0\n",
            "country         31.0\n",
            "points         100.0\n",
            "price         1900.0\n",
            "region_1       613.0\n",
            "variety        284.0\n",
            "winery        3957.0\n",
            "dtype: float64\n",
            "Unnamed: 0    1778.094486\n",
            "country          9.123060\n",
            "points           2.902916\n",
            "price           49.271650\n",
            "region_1       202.958779\n",
            "variety         89.488389\n",
            "winery        1139.148492\n",
            "dtype: float64\n",
            "Unnamed: 0     0.0\n",
            "country        0.0\n",
            "points        80.0\n",
            "price          4.0\n",
            "region_1       0.0\n",
            "variety        0.0\n",
            "winery         0.0\n",
            "dtype: float64\n",
            "Unnamed: 0    3079.0\n",
            "country         25.0\n",
            "points          88.0\n",
            "price           25.0\n",
            "region_1       233.0\n",
            "variety        110.0\n",
            "winery        1997.0\n",
            "dtype: float64\n"
          ]
        }
      ],
      "source": [
        "#Mean of Values\n",
        "print (data_set.mean())\n",
        "\n",
        "#Mode of values\n",
        "print (data_set.mode())\n",
        "\n",
        "#sum of values\n",
        "print(data_set.sum())\n",
        "\n",
        "#Maximum Value\n",
        "print(data_set.max())\n",
        "\n",
        "#Standard Deviation of the Values\n",
        "print(data_set.std())\n",
        "\n",
        "#Minimum Value\n",
        "print(data_set.min())\n",
        "\n",
        "#Median of Values\n",
        "print(data_set.median())\n",
        "\n"
      ]
    },
    {
      "cell_type": "code",
      "execution_count": null,
      "metadata": {
        "id": "YqzsFJoJyoYI"
      },
      "outputs": [],
      "source": []
    },
    {
      "attachments": {},
      "cell_type": "markdown",
      "metadata": {
        "id": "ADAAWKwpytsx"
      },
      "source": [
        "##8-plot (histogram) with set the size of the plots to (10,10)."
      ]
    },
    {
      "cell_type": "code",
      "execution_count": null,
      "metadata": {
        "colab": {
          "base_uri": "https://localhost:8080/",
          "height": 609
        },
        "id": "wd1vH4e5yu39",
        "outputId": "21a3ebb8-b8e8-40ad-b409-368f0787af3c"
      },
      "outputs": [
        {
          "data": {
            "text/plain": [
              "<matplotlib.axes._subplots.AxesSubplot at 0x7fc16d577b90>"
            ]
          },
          "execution_count": 11,
          "metadata": {},
          "output_type": "execute_result"
        },
        {
          "data": {
            "image/png": "[encoded data removed]",
            "text/plain": [
              "<Figure size 720x720 with 1 Axes>"
            ]
          },
          "metadata": {
            "needs_background": "light"
          },
          "output_type": "display_data"
        }
      ],
      "source": [
        "data_set.plot.hist(figsize=(10,10))\n"
      ]
    },
    {
      "cell_type": "code",
      "execution_count": null,
      "metadata": {
        "id": "lYG8_RCx6UKs"
      },
      "outputs": [],
      "source": []
    },
    {
      "attachments": {},
      "cell_type": "markdown",
      "metadata": {
        "id": "tUOmL6QKCJhx"
      },
      "source": [
        "##9-Save the modified DataFrame to a CSV file"
      ]
    },
    {
      "cell_type": "code",
      "execution_count": null,
      "metadata": {
        "id": "SAmDjwpACK7E"
      },
      "outputs": [],
      "source": [
        "   #save dataframe by csv\n",
        "   data_set.to_csv('data_1.csv', index=False)\n",
        "   \n",
        "   #save data by excel\n",
        "   data_set.to_excel('data_1.xls', index=False)\n",
        "\n"
      ]
    }
  ],
  "metadata": {
    "colab": {
      "collapsed_sections": [],
      "name": "Assignment_2.ipynb",
      "provenance": []
    },
    "kernelspec": {
      "display_name": "Python 3",
      "name": "python3"
    },
    "language_info": {
      "name": "python"
    }
  },
  "nbformat": 4,
  "nbformat_minor": 0
}
